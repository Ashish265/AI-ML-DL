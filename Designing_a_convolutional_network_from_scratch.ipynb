{
  "nbformat": 4,
  "nbformat_minor": 0,
  "metadata": {
    "colab": {
      "name": "Designing a convolutional network from scratch.ipynb",
      "provenance": [],
      "authorship_tag": "ABX9TyMshJd63XWVJMxfzD3D4uq2",
      "include_colab_link": true
    },
    "kernelspec": {
      "name": "python3",
      "display_name": "Python 3"
    }
  },
  "cells": [
    {
      "cell_type": "markdown",
      "metadata": {
        "id": "view-in-github",
        "colab_type": "text"
      },
      "source": [
        "<a href=\"https://colab.research.google.com/github/Ashish265/AI-ML-DL/blob/master/Designing_a_convolutional_network_from_scratch.ipynb\" target=\"_parent\"><img src=\"https://colab.research.google.com/assets/colab-badge.svg\" alt=\"Open In Colab\"/></a>"
      ]
    },
    {
      "cell_type": "code",
      "metadata": {
        "id": "_vTlDZQ04w77",
        "colab_type": "code",
        "colab": {
          "base_uri": "https://localhost:8080/",
          "height": 34
        },
        "outputId": "4b75b2e3-76a0-4b46-9209-7178c3a74b19"
      },
      "source": [
        "# Importing the required libraries\n",
        "\n",
        "import numpy as np\n",
        "import pandas as pd\n",
        "from tqdm import tqdm\n",
        "from keras.datasets import mnist"
      ],
      "execution_count": 1,
      "outputs": [
        {
          "output_type": "stream",
          "text": [
            "Using TensorFlow backend.\n"
          ],
          "name": "stderr"
        }
      ]
    },
    {
      "cell_type": "code",
      "metadata": {
        "id": "rka_Rzbs5WXK",
        "colab_type": "code",
        "colab": {
          "base_uri": "https://localhost:8080/",
          "height": 51
        },
        "outputId": "cdd65df1-6df5-4994-bf25-29ee063eceab"
      },
      "source": [
        "# Loading dataset\n",
        "(X_train,y_train),(X_test,y_test) = mnist.load_data()"
      ],
      "execution_count": 2,
      "outputs": [
        {
          "output_type": "stream",
          "text": [
            "Downloading data from https://s3.amazonaws.com/img-datasets/mnist.npz\n",
            "11493376/11490434 [==============================] - 2s 0us/step\n"
          ],
          "name": "stdout"
        }
      ]
    },
    {
      "cell_type": "code",
      "metadata": {
        "id": "53GLiQja5jfE",
        "colab_type": "code",
        "colab": {}
      },
      "source": [
        "# Selecting a subset of data\n",
        "X_train = X_train[:200]\n",
        "y = y_train[:200]"
      ],
      "execution_count": 3,
      "outputs": []
    },
    {
      "cell_type": "code",
      "metadata": {
        "id": "PeIEVoGi52Xr",
        "colab_type": "code",
        "colab": {}
      },
      "source": [
        "X = X_train.T\n",
        "X = X/255"
      ],
      "execution_count": 4,
      "outputs": []
    },
    {
      "cell_type": "code",
      "metadata": {
        "id": "HUJoogYw5_47",
        "colab_type": "code",
        "colab": {}
      },
      "source": [
        "y.resize((200,1))\n",
        "y =y.T"
      ],
      "execution_count": 5,
      "outputs": []
    },
    {
      "cell_type": "code",
      "metadata": {
        "id": "17NfZWxr6GK0",
        "colab_type": "code",
        "colab": {
          "base_uri": "https://localhost:8080/",
          "height": 204
        },
        "outputId": "9ac6f91b-e2f9-48d7-fa20-2923db8d4e73"
      },
      "source": [
        "pd.Series(y[0]).value_counts()"
      ],
      "execution_count": 6,
      "outputs": [
        {
          "output_type": "execute_result",
          "data": {
            "text/plain": [
              "1    26\n",
              "9    23\n",
              "7    21\n",
              "4    21\n",
              "3    21\n",
              "0    21\n",
              "2    20\n",
              "6    19\n",
              "8    15\n",
              "5    13\n",
              "dtype: int64"
            ]
          },
          "metadata": {
            "tags": []
          },
          "execution_count": 6
        }
      ]
    },
    {
      "cell_type": "code",
      "metadata": {
        "id": "LWbl7wQr6Qo1",
        "colab_type": "code",
        "colab": {
          "base_uri": "https://localhost:8080/",
          "height": 68
        },
        "outputId": "9aba4f67-05eb-41a6-fd54-38ab109be40d"
      },
      "source": [
        "#Converting into a binary class\n",
        "\n",
        "for i in range(y.shape[1]):\n",
        "  if y[0][i] > 4 :\n",
        "    y[0][i] = 1\n",
        "  else:\n",
        "    y[0][i] = 0\n",
        "\n",
        "pd.Series(y[0]).value_counts()\n"
      ],
      "execution_count": 7,
      "outputs": [
        {
          "output_type": "execute_result",
          "data": {
            "text/plain": [
              "0    109\n",
              "1     91\n",
              "dtype: int64"
            ]
          },
          "metadata": {
            "tags": []
          },
          "execution_count": 7
        }
      ]
    },
    {
      "cell_type": "code",
      "metadata": {
        "id": "rR_WRV2T6wAM",
        "colab_type": "code",
        "colab": {
          "base_uri": "https://localhost:8080/",
          "height": 374
        },
        "outputId": "0d9d9a36-0066-4354-a5f1-565c3d1a03c5"
      },
      "source": [
        "# initializing filter\n",
        "f=np.random.uniform(size=(3,5,5))\n",
        "f = f.T\n",
        "\n",
        "print('Filter 1', '\\n', f[:,:,0], '\\n')\n",
        "print('Filter 2', '\\n', f[:,:,1], '\\n')\n",
        "print('Filter 3', '\\n', f[:,:,2], '\\n')"
      ],
      "execution_count": 8,
      "outputs": [
        {
          "output_type": "stream",
          "text": [
            "Filter 1 \n",
            " [[0.19227044 0.34795763 0.81966541 0.02567578 0.55373436]\n",
            " [0.31031165 0.3031465  0.91685216 0.32710426 0.95352411]\n",
            " [0.06926033 0.40013485 0.57930773 0.30921582 0.65368938]\n",
            " [0.54716064 0.83455147 0.47304455 0.39246499 0.92236486]\n",
            " [0.21964524 0.62945335 0.75725833 0.75665004 0.40162004]] \n",
            "\n",
            "Filter 2 \n",
            " [[0.52816774 0.62524068 0.65157892 0.79842308 0.45031961]\n",
            " [0.39796777 0.58845202 0.5251121  0.05325141 0.42239549]\n",
            " [0.26465792 0.60835072 0.53512776 0.00951851 0.19101659]\n",
            " [0.53010825 0.22235439 0.40194856 0.35093311 0.92465465]\n",
            " [0.33855242 0.98600211 0.59322125 0.47684936 0.59231381]] \n",
            "\n",
            "Filter 3 \n",
            " [[0.91489382 0.92261959 0.26591905 0.32372181 0.02111395]\n",
            " [0.84074011 0.69852432 0.43377663 0.71883807 0.25282585]\n",
            " [0.42344339 0.82257488 0.28186003 0.77017614 0.65777085]\n",
            " [0.14458096 0.2521596  0.74810005 0.85061612 0.12033501]\n",
            " [0.29838352 0.61537599 0.66544196 0.6588022  0.34447551]] \n",
            "\n"
          ],
          "name": "stdout"
        }
      ]
    },
    {
      "cell_type": "code",
      "metadata": {
        "id": "U4KgtEbn63a8",
        "colab_type": "code",
        "colab": {
          "base_uri": "https://localhost:8080/",
          "height": 34
        },
        "outputId": "18a35072-b8df-4aa5-c1e2-da17118105ec"
      },
      "source": [
        "X.shape, y.shape, f.shape"
      ],
      "execution_count": 9,
      "outputs": [
        {
          "output_type": "execute_result",
          "data": {
            "text/plain": [
              "((28, 28, 200), (1, 200), (5, 5, 3))"
            ]
          },
          "metadata": {
            "tags": []
          },
          "execution_count": 9
        }
      ]
    },
    {
      "cell_type": "code",
      "metadata": {
        "id": "god7OZHg6-4c",
        "colab_type": "code",
        "colab": {
          "base_uri": "https://localhost:8080/",
          "height": 34
        },
        "outputId": "f72f0ee1-de4d-4c91-f339-5f91b1ce5323"
      },
      "source": [
        "\n",
        "# Generating patches from images\n",
        "new_image = []\n",
        "\n",
        "# for number of images\n",
        "for k in range(X.shape[2]):\n",
        "    # sliding in horizontal direction\n",
        "    for i in range(X.shape[0]-f.shape[0]+1):\n",
        "        # sliding in vertical direction\n",
        "        for j in range(X.shape[1]-f.shape[1]+1):\n",
        "            new_image.append(X[:,:,k][i:i+f.shape[0],j:j+f.shape[1]])\n",
        "            \n",
        "# resizing the generated patches as per number of images\n",
        "new_image = np.array(new_image)\n",
        "new_image.resize((X.shape[2],int(new_image.shape[0]/X.shape[2]),new_image.shape[1],new_image.shape[2]))\n",
        "new_image.shape"
      ],
      "execution_count": 10,
      "outputs": [
        {
          "output_type": "execute_result",
          "data": {
            "text/plain": [
              "(200, 576, 5, 5)"
            ]
          },
          "metadata": {
            "tags": []
          },
          "execution_count": 10
        }
      ]
    },
    {
      "cell_type": "code",
      "metadata": {
        "id": "_-vnsdvu7Q1s",
        "colab_type": "code",
        "colab": {}
      },
      "source": [
        "# number of features in data set\n",
        "s_row = X.shape[0] - f.shape[0] + 1\n",
        "s_col = X.shape[1] - f.shape[1] + 1\n",
        "num_filter = f.shape[2]\n",
        "\n",
        "inputlayer_neurons = (s_row)*(s_col)*(num_filter)\n",
        "output_neurons = 1 \n",
        "\n",
        "# initializing weight\n",
        "wo=np.random.uniform(size=(inputlayer_neurons,output_neurons))"
      ],
      "execution_count": 11,
      "outputs": []
    },
    {
      "cell_type": "code",
      "metadata": {
        "id": "3sFuQItb7hzs",
        "colab_type": "code",
        "colab": {}
      },
      "source": [
        "# defining the Sigmoid Function\n",
        "def sigmoid (x):\n",
        "    return 1/(1 + np.exp(-x))\n",
        "\n",
        "# derivative of Sigmoid Function\n",
        "def derivatives_sigmoid(x):\n",
        "    return x * (1 - x)"
      ],
      "execution_count": 12,
      "outputs": []
    },
    {
      "cell_type": "code",
      "metadata": {
        "id": "pxRqW8EY7khz",
        "colab_type": "code",
        "colab": {
          "base_uri": "https://localhost:8080/",
          "height": 34
        },
        "outputId": "32b60e94-68ed-4693-c91f-747016ab657f"
      },
      "source": [
        "# generating output of convolution layer\n",
        "filter_output = []\n",
        "# for each image\n",
        "for i in range(len(new_image)):\n",
        "    # apply each filter\n",
        "    for k in range(f.shape[2]):\n",
        "        # do element wise multiplication\n",
        "        for j in range(new_image.shape[1]):\n",
        "            filter_output.append((new_image[i][j]*f[:,:,k]).sum()) \n",
        "\n",
        "filter_output = np.resize(np.array(filter_output), (len(new_image),f.shape[2],new_image.shape[1]))\n",
        "\n",
        "# applying activation over convolution output\n",
        "filter_output_sigmoid = sigmoid(filter_output)\n",
        "\n",
        "filter_output.shape, filter_output_sigmoid.shape"
      ],
      "execution_count": 13,
      "outputs": [
        {
          "output_type": "execute_result",
          "data": {
            "text/plain": [
              "((200, 3, 576), (200, 3, 576))"
            ]
          },
          "metadata": {
            "tags": []
          },
          "execution_count": 13
        }
      ]
    },
    {
      "cell_type": "code",
      "metadata": {
        "id": "EH--uQ148Fnr",
        "colab_type": "code",
        "colab": {}
      },
      "source": [
        "# generating input for fully connected layer\n",
        "filter_output_sigmoid = filter_output_sigmoid.reshape((\n",
        "filter_output_sigmoid.shape[0],\n",
        "filter_output_sigmoid.shape[1]*filter_output_sigmoid.shape[2]\n",
        "))\n",
        "\n",
        "filter_output_sigmoid = filter_output_sigmoid.T\n",
        "\n",
        "# Linear trasnformation for fully Connected Layer\n",
        "output_layer_input=np.dot(wo.T,filter_output_sigmoid)\n",
        "output_layer_input=(output_layer_input - np.average(output_layer_input))/np.std(output_layer_input)\n",
        "\n",
        "# activation function\n",
        "output = sigmoid(output_layer_input)"
      ],
      "execution_count": 14,
      "outputs": []
    },
    {
      "cell_type": "code",
      "metadata": {
        "id": "bLM1duSG8OM7",
        "colab_type": "code",
        "colab": {}
      },
      "source": [
        "#Error\n",
        "error = np.square(y-output)/2\n",
        "\n",
        "#Error w.r.t Output (Gradient)\n",
        "error_wrt_output = -(y-output)\n",
        "\n",
        "#Error w.r.t sigmoid transformation (output_layer_input)\n",
        "output_wrt_output_layer_input=output*(1-output)\n",
        "\n",
        "#Error w.r.t weight\n",
        "output_wrt_w=filter_output_sigmoid"
      ],
      "execution_count": 16,
      "outputs": []
    },
    {
      "cell_type": "code",
      "metadata": {
        "id": "g4KRapRI8QfD",
        "colab_type": "code",
        "colab": {}
      },
      "source": [
        "#Error w.r.t sigmoid output\n",
        "output_layer_input_wrt_filter_output_sigmoid = wo.T\n",
        "\n",
        "#Error w.r.t sigmoid transformation\n",
        "filter_output_sigmoid_wrt_filter_output = filter_output_sigmoid * (1-filter_output_sigmoid)\n",
        "\n",
        "# calculating derivatives for backprop convolution\n",
        "error_wrt_filter_output = np.dot(output_layer_input_wrt_filter_output_sigmoid.T,\n",
        "error_wrt_output * output_wrt_output_layer_input) * filter_output_sigmoid_wrt_filter_output\n",
        "\n",
        "error_wrt_filter_output = np.average(error_wrt_filter_output, axis=1)\n",
        "\n",
        "error_wrt_filter_output = np.resize(error_wrt_filter_output,\n",
        "(X.shape[0]-f.shape[0]+1,X.shape[1]-f.shape[1]+1, f.shape[2]))"
      ],
      "execution_count": 18,
      "outputs": []
    },
    {
      "cell_type": "code",
      "metadata": {
        "id": "_5qgotVa8aMz",
        "colab_type": "code",
        "colab": {}
      },
      "source": [
        "\n",
        "filter_update = []\n",
        "for i in range(f.shape[2]):\n",
        "    for j in range(f.shape[0]):\n",
        "        for k in range(f.shape[1]):            \n",
        "            temp = 0\n",
        "            spos_row = j\n",
        "            spos_col = k\n",
        "            epos_row = spos_row + s_row\n",
        "            epos_col = spos_col + s_col\n",
        "            for l in range(X.shape[2]):\n",
        "                temp = temp + (X[spos_row:epos_row,spos_col:epos_col,l]*error_wrt_filter_output[:,:,i]).sum()\n",
        "            filter_update.append(temp/X.shape[2])  \n",
        "\n",
        "filter_update_array = np.array(filter_update)\n",
        "filter_update_array = np.resize(filter_update_array,(f.shape[2],f.shape[0],f.shape[1]))"
      ],
      "execution_count": 19,
      "outputs": []
    },
    {
      "cell_type": "code",
      "metadata": {
        "id": "gNZMegCa8nWt",
        "colab_type": "code",
        "colab": {}
      },
      "source": [
        "lr=0.1"
      ],
      "execution_count": 21,
      "outputs": []
    },
    {
      "cell_type": "code",
      "metadata": {
        "id": "pK0tRone8f5D",
        "colab_type": "code",
        "colab": {}
      },
      "source": [
        "for i in range(f.shape[2]):\n",
        "    f[:,:,i] = f[:,:,i] - lr*filter_update_array[i]"
      ],
      "execution_count": 22,
      "outputs": []
    },
    {
      "cell_type": "code",
      "metadata": {
        "id": "LlUU94fI8i1r",
        "colab_type": "code",
        "colab": {}
      },
      "source": [
        ""
      ],
      "execution_count": null,
      "outputs": []
    }
  ]
}